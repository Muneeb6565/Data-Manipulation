{
 "cells": [
  {
   "cell_type": "markdown",
   "id": "3ed2151a",
   "metadata": {
    "papermill": {
     "duration": 0.005717,
     "end_time": "2022-12-30T12:40:19.635662",
     "exception": false,
     "start_time": "2022-12-30T12:40:19.629945",
     "status": "completed"
    },
    "tags": []
   },
   "source": [
    "**This notebook is an exercise in the [Pandas](https://www.kaggle.com/learn/pandas) course.  You can reference the tutorial at [this link](https://www.kaggle.com/residentmario/data-types-and-missing-values).**\n",
    "\n",
    "---\n"
   ]
  },
  {
   "cell_type": "markdown",
   "id": "65473316",
   "metadata": {
    "papermill": {
     "duration": 0.004103,
     "end_time": "2022-12-30T12:40:19.644235",
     "exception": false,
     "start_time": "2022-12-30T12:40:19.640132",
     "status": "completed"
    },
    "tags": []
   },
   "source": [
    "# Introduction\n",
    "\n",
    "Run the following cell to load your data and some utility functions."
   ]
  },
  {
   "cell_type": "code",
   "execution_count": 1,
   "id": "d109d853",
   "metadata": {
    "execution": {
     "iopub.execute_input": "2022-12-30T12:40:19.654925Z",
     "iopub.status.busy": "2022-12-30T12:40:19.654429Z",
     "iopub.status.idle": "2022-12-30T12:40:22.792961Z",
     "shell.execute_reply": "2022-12-30T12:40:22.791173Z"
    },
    "papermill": {
     "duration": 3.148241,
     "end_time": "2022-12-30T12:40:22.796682",
     "exception": false,
     "start_time": "2022-12-30T12:40:19.648441",
     "status": "completed"
    },
    "tags": []
   },
   "outputs": [
    {
     "name": "stdout",
     "output_type": "stream",
     "text": [
      "Setup complete.\n"
     ]
    }
   ],
   "source": [
    "import pandas as pd\n",
    "\n",
    "reviews = pd.read_csv(\"../input/wine-reviews/winemag-data-130k-v2.csv\", index_col=0)\n",
    "\n",
    "from learntools.core import binder; binder.bind(globals())\n",
    "from learntools.pandas.data_types_and_missing_data import *\n",
    "print(\"Setup complete.\")"
   ]
  },
  {
   "cell_type": "markdown",
   "id": "64c96902",
   "metadata": {
    "papermill": {
     "duration": 0.004313,
     "end_time": "2022-12-30T12:40:22.805989",
     "exception": false,
     "start_time": "2022-12-30T12:40:22.801676",
     "status": "completed"
    },
    "tags": []
   },
   "source": [
    "# Exercises"
   ]
  },
  {
   "cell_type": "markdown",
   "id": "52cbccc6",
   "metadata": {
    "papermill": {
     "duration": 0.00422,
     "end_time": "2022-12-30T12:40:22.814837",
     "exception": false,
     "start_time": "2022-12-30T12:40:22.810617",
     "status": "completed"
    },
    "tags": []
   },
   "source": [
    "## 1. \n",
    "What is the data type of the `points` column in the dataset?"
   ]
  },
  {
   "cell_type": "code",
   "execution_count": 2,
   "id": "a173d74e",
   "metadata": {
    "execution": {
     "iopub.execute_input": "2022-12-30T12:40:22.827075Z",
     "iopub.status.busy": "2022-12-30T12:40:22.825936Z",
     "iopub.status.idle": "2022-12-30T12:40:22.838996Z",
     "shell.execute_reply": "2022-12-30T12:40:22.837712Z"
    },
    "papermill": {
     "duration": 0.021568,
     "end_time": "2022-12-30T12:40:22.841489",
     "exception": false,
     "start_time": "2022-12-30T12:40:22.819921",
     "status": "completed"
    },
    "tags": []
   },
   "outputs": [
    {
     "data": {
      "application/javascript": [
       "parent.postMessage({\"jupyterEvent\": \"custom.exercise_interaction\", \"data\": {\"outcomeType\": 1, \"valueTowardsCompletion\": 0.25, \"interactionType\": 1, \"questionType\": 1, \"questionId\": \"1_PointsDtype\", \"learnToolsVersion\": \"0.3.4\", \"failureMessage\": \"\", \"exceptionClass\": \"\", \"trace\": \"\"}}, \"*\")"
      ],
      "text/plain": [
       "<IPython.core.display.Javascript object>"
      ]
     },
     "metadata": {},
     "output_type": "display_data"
    },
    {
     "data": {
      "text/markdown": [
       "<span style=\"color:#33cc33\">Correct</span>"
      ],
      "text/plain": [
       "Correct"
      ]
     },
     "metadata": {},
     "output_type": "display_data"
    }
   ],
   "source": [
    "# Your code here\n",
    "dtype = reviews.points.dtype\n",
    "\n",
    "# Check your answer\n",
    "q1.check()"
   ]
  },
  {
   "cell_type": "code",
   "execution_count": 3,
   "id": "926891a3",
   "metadata": {
    "execution": {
     "iopub.execute_input": "2022-12-30T12:40:22.852880Z",
     "iopub.status.busy": "2022-12-30T12:40:22.852448Z",
     "iopub.status.idle": "2022-12-30T12:40:22.857510Z",
     "shell.execute_reply": "2022-12-30T12:40:22.856259Z"
    },
    "papermill": {
     "duration": 0.013619,
     "end_time": "2022-12-30T12:40:22.859959",
     "exception": false,
     "start_time": "2022-12-30T12:40:22.846340",
     "status": "completed"
    },
    "tags": []
   },
   "outputs": [],
   "source": [
    "#q1.hint()\n",
    "#q1.solution()"
   ]
  },
  {
   "cell_type": "markdown",
   "id": "ce01479c",
   "metadata": {
    "papermill": {
     "duration": 0.004307,
     "end_time": "2022-12-30T12:40:22.869402",
     "exception": false,
     "start_time": "2022-12-30T12:40:22.865095",
     "status": "completed"
    },
    "tags": []
   },
   "source": [
    "## 2. \n",
    "Create a Series from entries in the `points` column, but convert the entries to strings. Hint: strings are `str` in native Python."
   ]
  },
  {
   "cell_type": "code",
   "execution_count": 4,
   "id": "7c4eab43",
   "metadata": {
    "execution": {
     "iopub.execute_input": "2022-12-30T12:40:22.880284Z",
     "iopub.status.busy": "2022-12-30T12:40:22.879872Z",
     "iopub.status.idle": "2022-12-30T12:40:22.966713Z",
     "shell.execute_reply": "2022-12-30T12:40:22.965369Z"
    },
    "papermill": {
     "duration": 0.095418,
     "end_time": "2022-12-30T12:40:22.969453",
     "exception": false,
     "start_time": "2022-12-30T12:40:22.874035",
     "status": "completed"
    },
    "tags": []
   },
   "outputs": [
    {
     "data": {
      "application/javascript": [
       "parent.postMessage({\"jupyterEvent\": \"custom.exercise_interaction\", \"data\": {\"outcomeType\": 1, \"valueTowardsCompletion\": 0.25, \"interactionType\": 1, \"questionType\": 1, \"questionId\": \"2_StrPoints\", \"learnToolsVersion\": \"0.3.4\", \"failureMessage\": \"\", \"exceptionClass\": \"\", \"trace\": \"\"}}, \"*\")"
      ],
      "text/plain": [
       "<IPython.core.display.Javascript object>"
      ]
     },
     "metadata": {},
     "output_type": "display_data"
    },
    {
     "data": {
      "text/markdown": [
       "<span style=\"color:#33cc33\">Correct</span>"
      ],
      "text/plain": [
       "Correct"
      ]
     },
     "metadata": {},
     "output_type": "display_data"
    }
   ],
   "source": [
    "point_strings = reviews.points.astype('str')\n",
    "\n",
    "# Check your answer\n",
    "q2.check()"
   ]
  },
  {
   "cell_type": "code",
   "execution_count": 5,
   "id": "11d2d6d2",
   "metadata": {
    "execution": {
     "iopub.execute_input": "2022-12-30T12:40:22.981126Z",
     "iopub.status.busy": "2022-12-30T12:40:22.980702Z",
     "iopub.status.idle": "2022-12-30T12:40:22.985041Z",
     "shell.execute_reply": "2022-12-30T12:40:22.983776Z"
    },
    "papermill": {
     "duration": 0.013282,
     "end_time": "2022-12-30T12:40:22.987618",
     "exception": false,
     "start_time": "2022-12-30T12:40:22.974336",
     "status": "completed"
    },
    "tags": []
   },
   "outputs": [],
   "source": [
    "#q2.hint()\n",
    "#q2.solution()"
   ]
  },
  {
   "cell_type": "markdown",
   "id": "2774873a",
   "metadata": {
    "papermill": {
     "duration": 0.004586,
     "end_time": "2022-12-30T12:40:22.997172",
     "exception": false,
     "start_time": "2022-12-30T12:40:22.992586",
     "status": "completed"
    },
    "tags": []
   },
   "source": [
    "## 3.\n",
    "Sometimes the price column is null. How many reviews in the dataset are missing a price?"
   ]
  },
  {
   "cell_type": "code",
   "execution_count": 6,
   "id": "0355b50d",
   "metadata": {
    "execution": {
     "iopub.execute_input": "2022-12-30T12:40:23.009580Z",
     "iopub.status.busy": "2022-12-30T12:40:23.008356Z",
     "iopub.status.idle": "2022-12-30T12:40:23.021922Z",
     "shell.execute_reply": "2022-12-30T12:40:23.020235Z"
    },
    "papermill": {
     "duration": 0.022788,
     "end_time": "2022-12-30T12:40:23.024857",
     "exception": false,
     "start_time": "2022-12-30T12:40:23.002069",
     "status": "completed"
    },
    "tags": []
   },
   "outputs": [
    {
     "data": {
      "application/javascript": [
       "parent.postMessage({\"jupyterEvent\": \"custom.exercise_interaction\", \"data\": {\"outcomeType\": 1, \"valueTowardsCompletion\": 0.25, \"interactionType\": 1, \"questionType\": 1, \"questionId\": \"3_CountMissingPrices\", \"learnToolsVersion\": \"0.3.4\", \"failureMessage\": \"\", \"exceptionClass\": \"\", \"trace\": \"\"}}, \"*\")"
      ],
      "text/plain": [
       "<IPython.core.display.Javascript object>"
      ]
     },
     "metadata": {},
     "output_type": "display_data"
    },
    {
     "data": {
      "text/markdown": [
       "<span style=\"color:#33cc33\">Correct</span>"
      ],
      "text/plain": [
       "Correct"
      ]
     },
     "metadata": {},
     "output_type": "display_data"
    }
   ],
   "source": [
    "n_missing_prices = reviews.price.isnull().sum()\n",
    "\n",
    "# Check your answer\n",
    "q3.check()"
   ]
  },
  {
   "cell_type": "code",
   "execution_count": 7,
   "id": "e1e70d59",
   "metadata": {
    "execution": {
     "iopub.execute_input": "2022-12-30T12:40:23.038302Z",
     "iopub.status.busy": "2022-12-30T12:40:23.037879Z",
     "iopub.status.idle": "2022-12-30T12:40:23.043218Z",
     "shell.execute_reply": "2022-12-30T12:40:23.041638Z"
    },
    "papermill": {
     "duration": 0.015625,
     "end_time": "2022-12-30T12:40:23.046150",
     "exception": false,
     "start_time": "2022-12-30T12:40:23.030525",
     "status": "completed"
    },
    "tags": []
   },
   "outputs": [],
   "source": [
    "#q3.hint()\n",
    "#q3.solution()"
   ]
  },
  {
   "cell_type": "markdown",
   "id": "9f283b21",
   "metadata": {
    "papermill": {
     "duration": 0.005342,
     "end_time": "2022-12-30T12:40:23.057191",
     "exception": false,
     "start_time": "2022-12-30T12:40:23.051849",
     "status": "completed"
    },
    "tags": []
   },
   "source": [
    "## 4.\n",
    "What are the most common wine-producing regions? Create a Series counting the number of times each value occurs in the `region_1` field. This field is often missing data, so replace missing values with `Unknown`. Sort in descending order.  Your output should look something like this:\n",
    "\n",
    "```\n",
    "Unknown                    21247\n",
    "Napa Valley                 4480\n",
    "                           ...  \n",
    "Bardolino Superiore            1\n",
    "Primitivo del Tarantino        1\n",
    "Name: region_1, Length: 1230, dtype: int64\n",
    "```"
   ]
  },
  {
   "cell_type": "code",
   "execution_count": 8,
   "id": "add8e256",
   "metadata": {
    "execution": {
     "iopub.execute_input": "2022-12-30T12:40:23.072055Z",
     "iopub.status.busy": "2022-12-30T12:40:23.071556Z",
     "iopub.status.idle": "2022-12-30T12:40:23.117048Z",
     "shell.execute_reply": "2022-12-30T12:40:23.115824Z"
    },
    "papermill": {
     "duration": 0.055499,
     "end_time": "2022-12-30T12:40:23.120152",
     "exception": false,
     "start_time": "2022-12-30T12:40:23.064653",
     "status": "completed"
    },
    "tags": []
   },
   "outputs": [
    {
     "data": {
      "application/javascript": [
       "parent.postMessage({\"jupyterEvent\": \"custom.exercise_interaction\", \"data\": {\"outcomeType\": 1, \"valueTowardsCompletion\": 0.25, \"interactionType\": 1, \"questionType\": 2, \"questionId\": \"4_ReviewsPerRegion\", \"learnToolsVersion\": \"0.3.4\", \"failureMessage\": \"\", \"exceptionClass\": \"\", \"trace\": \"\"}}, \"*\")"
      ],
      "text/plain": [
       "<IPython.core.display.Javascript object>"
      ]
     },
     "metadata": {},
     "output_type": "display_data"
    },
    {
     "data": {
      "text/markdown": [
       "<span style=\"color:#33cc33\">Correct</span>"
      ],
      "text/plain": [
       "Correct"
      ]
     },
     "metadata": {},
     "output_type": "display_data"
    }
   ],
   "source": [
    "reviews_per_region = reviews.region_1.fillna('Unknown').value_counts()\n",
    "\n",
    "# Check your answer\n",
    "q4.check()"
   ]
  },
  {
   "cell_type": "code",
   "execution_count": 9,
   "id": "835f18aa",
   "metadata": {
    "execution": {
     "iopub.execute_input": "2022-12-30T12:40:23.133060Z",
     "iopub.status.busy": "2022-12-30T12:40:23.132605Z",
     "iopub.status.idle": "2022-12-30T12:40:23.137790Z",
     "shell.execute_reply": "2022-12-30T12:40:23.136615Z"
    },
    "papermill": {
     "duration": 0.014658,
     "end_time": "2022-12-30T12:40:23.140334",
     "exception": false,
     "start_time": "2022-12-30T12:40:23.125676",
     "status": "completed"
    },
    "tags": []
   },
   "outputs": [],
   "source": [
    "#q4.hint()\n",
    "#q4.solution()"
   ]
  },
  {
   "cell_type": "markdown",
   "id": "4fa9257f",
   "metadata": {
    "papermill": {
     "duration": 0.005195,
     "end_time": "2022-12-30T12:40:23.151220",
     "exception": false,
     "start_time": "2022-12-30T12:40:23.146025",
     "status": "completed"
    },
    "tags": []
   },
   "source": [
    "# Keep going\n",
    "\n",
    "Move on to **[renaming and combining](https://www.kaggle.com/residentmario/renaming-and-combining)**."
   ]
  },
  {
   "cell_type": "markdown",
   "id": "bdbc481e",
   "metadata": {
    "papermill": {
     "duration": 0.005306,
     "end_time": "2022-12-30T12:40:23.162107",
     "exception": false,
     "start_time": "2022-12-30T12:40:23.156801",
     "status": "completed"
    },
    "tags": []
   },
   "source": [
    "---\n",
    "\n",
    "\n",
    "\n",
    "\n",
    "*Have questions or comments? Visit the [course discussion forum](https://www.kaggle.com/learn/pandas/discussion) to chat with other learners.*"
   ]
  }
 ],
 "metadata": {
  "kernelspec": {
   "display_name": "Python 3",
   "language": "python",
   "name": "python3"
  },
  "language_info": {
   "codemirror_mode": {
    "name": "ipython",
    "version": 3
   },
   "file_extension": ".py",
   "mimetype": "text/x-python",
   "name": "python",
   "nbconvert_exporter": "python",
   "pygments_lexer": "ipython3",
   "version": "3.7.12"
  },
  "papermill": {
   "default_parameters": {},
   "duration": 14.509831,
   "end_time": "2022-12-30T12:40:23.990991",
   "environment_variables": {},
   "exception": null,
   "input_path": "__notebook__.ipynb",
   "output_path": "__notebook__.ipynb",
   "parameters": {},
   "start_time": "2022-12-30T12:40:09.481160",
   "version": "2.3.4"
  }
 },
 "nbformat": 4,
 "nbformat_minor": 5
}
