{
 "cells": [
  {
   "cell_type": "markdown",
   "id": "3294ed66",
   "metadata": {
    "papermill": {
     "duration": 0.007406,
     "end_time": "2022-12-30T10:59:01.073941",
     "exception": false,
     "start_time": "2022-12-30T10:59:01.066535",
     "status": "completed"
    },
    "tags": []
   },
   "source": [
    "**This notebook is an exercise in the [Pandas](https://www.kaggle.com/learn/pandas) course.  You can reference the tutorial at [this link](https://www.kaggle.com/residentmario/grouping-and-sorting).**\n",
    "\n",
    "---\n"
   ]
  },
  {
   "cell_type": "markdown",
   "id": "458c1404",
   "metadata": {
    "papermill": {
     "duration": 0.005539,
     "end_time": "2022-12-30T10:59:01.085506",
     "exception": false,
     "start_time": "2022-12-30T10:59:01.079967",
     "status": "completed"
    },
    "tags": []
   },
   "source": [
    "# Introduction\n",
    "\n",
    "In these exercises we'll apply groupwise analysis to our dataset.\n",
    "\n",
    "Run the code cell below to load the data before running the exercises."
   ]
  },
  {
   "cell_type": "code",
   "execution_count": 1,
   "id": "c86b173f",
   "metadata": {
    "execution": {
     "iopub.execute_input": "2022-12-30T10:59:01.100262Z",
     "iopub.status.busy": "2022-12-30T10:59:01.099253Z",
     "iopub.status.idle": "2022-12-30T10:59:04.199558Z",
     "shell.execute_reply": "2022-12-30T10:59:04.198433Z"
    },
    "papermill": {
     "duration": 3.110686,
     "end_time": "2022-12-30T10:59:04.202152",
     "exception": false,
     "start_time": "2022-12-30T10:59:01.091466",
     "status": "completed"
    },
    "tags": []
   },
   "outputs": [
    {
     "name": "stdout",
     "output_type": "stream",
     "text": [
      "Setup complete.\n"
     ]
    }
   ],
   "source": [
    "import pandas as pd\n",
    "\n",
    "reviews = pd.read_csv(\"../input/wine-reviews/winemag-data-130k-v2.csv\", index_col=0)\n",
    "#pd.set_option(\"display.max_rows\", 5)\n",
    "\n",
    "from learntools.core import binder; binder.bind(globals())\n",
    "from learntools.pandas.grouping_and_sorting import *\n",
    "print(\"Setup complete.\")"
   ]
  },
  {
   "cell_type": "markdown",
   "id": "8cfe3d5d",
   "metadata": {
    "papermill": {
     "duration": 0.005564,
     "end_time": "2022-12-30T10:59:04.214072",
     "exception": false,
     "start_time": "2022-12-30T10:59:04.208508",
     "status": "completed"
    },
    "tags": []
   },
   "source": [
    "# Exercises"
   ]
  },
  {
   "cell_type": "markdown",
   "id": "747765ae",
   "metadata": {
    "papermill": {
     "duration": 0.005616,
     "end_time": "2022-12-30T10:59:04.225962",
     "exception": false,
     "start_time": "2022-12-30T10:59:04.220346",
     "status": "completed"
    },
    "tags": []
   },
   "source": [
    "## 1.\n",
    "Who are the most common wine reviewers in the dataset? Create a `Series` whose index is the `taster_twitter_handle` category from the dataset, and whose values count how many reviews each person wrote."
   ]
  },
  {
   "cell_type": "code",
   "execution_count": 2,
   "id": "ef533cad",
   "metadata": {
    "execution": {
     "iopub.execute_input": "2022-12-30T10:59:04.239249Z",
     "iopub.status.busy": "2022-12-30T10:59:04.238826Z",
     "iopub.status.idle": "2022-12-30T10:59:04.264148Z",
     "shell.execute_reply": "2022-12-30T10:59:04.262749Z"
    },
    "papermill": {
     "duration": 0.035168,
     "end_time": "2022-12-30T10:59:04.266862",
     "exception": false,
     "start_time": "2022-12-30T10:59:04.231694",
     "status": "completed"
    },
    "tags": []
   },
   "outputs": [
    {
     "name": "stdout",
     "output_type": "stream",
     "text": [
      "taster_twitter_handle\n",
      "@AnneInVino          3685\n",
      "@JoeCz               5147\n",
      "@bkfiona               27\n",
      "@gordone_cellars     4177\n",
      "@kerinokeefe        10776\n",
      "@laurbuzz            1835\n",
      "@mattkettmann        6332\n",
      "@paulgwine           9532\n",
      "@suskostrzewa        1085\n",
      "@vboone              9537\n",
      "@vossroger          25514\n",
      "@wawinereport        4966\n",
      "@wineschach         15134\n",
      "@winewchristina         6\n",
      "@worldwineguys       1005\n",
      "Name: taster_twitter_handle, dtype: int64\n"
     ]
    }
   ],
   "source": [
    "# Your code here\n",
    "print(reviews.groupby('taster_twitter_handle').taster_twitter_handle.count())\n",
    "\n",
    "# Check your answer\n",
    "# q1.check()"
   ]
  },
  {
   "cell_type": "code",
   "execution_count": 3,
   "id": "856b0333",
   "metadata": {
    "execution": {
     "iopub.execute_input": "2022-12-30T10:59:04.280984Z",
     "iopub.status.busy": "2022-12-30T10:59:04.280567Z",
     "iopub.status.idle": "2022-12-30T10:59:04.290207Z",
     "shell.execute_reply": "2022-12-30T10:59:04.289394Z"
    },
    "papermill": {
     "duration": 0.019297,
     "end_time": "2022-12-30T10:59:04.292426",
     "exception": false,
     "start_time": "2022-12-30T10:59:04.273129",
     "status": "completed"
    },
    "tags": []
   },
   "outputs": [
    {
     "data": {
      "application/javascript": [
       "parent.postMessage({\"jupyterEvent\": \"custom.exercise_interaction\", \"data\": {\"interactionType\": 3, \"questionType\": 1, \"questionId\": \"1_ReviewsWritten\", \"learnToolsVersion\": \"0.3.4\", \"valueTowardsCompletion\": 0.0, \"failureMessage\": \"\", \"exceptionClass\": \"\", \"trace\": \"\", \"outcomeType\": 4}}, \"*\")"
      ],
      "text/plain": [
       "<IPython.core.display.Javascript object>"
      ]
     },
     "metadata": {},
     "output_type": "display_data"
    },
    {
     "data": {
      "text/markdown": [
       "<span style=\"color:#33cc99\">Solution:</span> \n",
       "```python\n",
       "reviews_written = reviews.groupby('taster_twitter_handle').size()\n",
       "```\n",
       "or\n",
       "```python\n",
       "reviews_written = reviews.groupby('taster_twitter_handle').taster_twitter_handle.count()\n",
       "```\n"
      ],
      "text/plain": [
       "Solution: \n",
       "```python\n",
       "reviews_written = reviews.groupby('taster_twitter_handle').size()\n",
       "```\n",
       "or\n",
       "```python\n",
       "reviews_written = reviews.groupby('taster_twitter_handle').taster_twitter_handle.count()\n",
       "```"
      ]
     },
     "metadata": {},
     "output_type": "display_data"
    }
   ],
   "source": [
    "#q1.hint()\n",
    "q1.solution()"
   ]
  },
  {
   "cell_type": "markdown",
   "id": "0766f9c9",
   "metadata": {
    "papermill": {
     "duration": 0.007545,
     "end_time": "2022-12-30T10:59:04.306219",
     "exception": false,
     "start_time": "2022-12-30T10:59:04.298674",
     "status": "completed"
    },
    "tags": []
   },
   "source": [
    "## 2.\n",
    "What is the best wine I can buy for a given amount of money? Create a `Series` whose index is wine prices and whose values is the maximum number of points a wine costing that much was given in a review. Sort the values by price, ascending (so that `4.0` dollars is at the top and `3300.0` dollars is at the bottom)."
   ]
  },
  {
   "cell_type": "code",
   "execution_count": 4,
   "id": "209e6aa0",
   "metadata": {
    "execution": {
     "iopub.execute_input": "2022-12-30T10:59:04.321277Z",
     "iopub.status.busy": "2022-12-30T10:59:04.319865Z",
     "iopub.status.idle": "2022-12-30T10:59:04.339464Z",
     "shell.execute_reply": "2022-12-30T10:59:04.338026Z"
    },
    "papermill": {
     "duration": 0.029667,
     "end_time": "2022-12-30T10:59:04.342136",
     "exception": false,
     "start_time": "2022-12-30T10:59:04.312469",
     "status": "completed"
    },
    "tags": []
   },
   "outputs": [
    {
     "name": "stdout",
     "output_type": "stream",
     "text": [
      "price\n",
      "4.0       86\n",
      "5.0       87\n",
      "6.0       88\n",
      "7.0       91\n",
      "8.0       91\n",
      "          ..\n",
      "1900.0    98\n",
      "2000.0    97\n",
      "2013.0    91\n",
      "2500.0    96\n",
      "3300.0    88\n",
      "Name: points, Length: 390, dtype: int64\n"
     ]
    },
    {
     "data": {
      "application/javascript": [
       "parent.postMessage({\"jupyterEvent\": \"custom.exercise_interaction\", \"data\": {\"outcomeType\": 1, \"valueTowardsCompletion\": 0.16666666666666666, \"interactionType\": 1, \"questionType\": 1, \"questionId\": \"2_BestRatingPerPrice\", \"learnToolsVersion\": \"0.3.4\", \"failureMessage\": \"\", \"exceptionClass\": \"\", \"trace\": \"\"}}, \"*\")"
      ],
      "text/plain": [
       "<IPython.core.display.Javascript object>"
      ]
     },
     "metadata": {},
     "output_type": "display_data"
    },
    {
     "data": {
      "text/markdown": [
       "<span style=\"color:#33cc33\">Correct</span>"
      ],
      "text/plain": [
       "Correct"
      ]
     },
     "metadata": {},
     "output_type": "display_data"
    }
   ],
   "source": [
    "best_rating_per_price = reviews.groupby('price').points.max().sort_index()\n",
    "print(best_rating_per_price)\n",
    "\n",
    "# Check your answer\n",
    "q2.check()"
   ]
  },
  {
   "cell_type": "code",
   "execution_count": 5,
   "id": "c48e310e",
   "metadata": {
    "execution": {
     "iopub.execute_input": "2022-12-30T10:59:04.357622Z",
     "iopub.status.busy": "2022-12-30T10:59:04.356983Z",
     "iopub.status.idle": "2022-12-30T10:59:04.360557Z",
     "shell.execute_reply": "2022-12-30T10:59:04.359815Z"
    },
    "papermill": {
     "duration": 0.013677,
     "end_time": "2022-12-30T10:59:04.362666",
     "exception": false,
     "start_time": "2022-12-30T10:59:04.348989",
     "status": "completed"
    },
    "tags": []
   },
   "outputs": [],
   "source": [
    "#q2.hint()\n",
    "#q2.solution()"
   ]
  },
  {
   "cell_type": "markdown",
   "id": "2e660462",
   "metadata": {
    "papermill": {
     "duration": 0.006092,
     "end_time": "2022-12-30T10:59:04.375267",
     "exception": false,
     "start_time": "2022-12-30T10:59:04.369175",
     "status": "completed"
    },
    "tags": []
   },
   "source": [
    "## 3.\n",
    "What are the minimum and maximum prices for each `variety` of wine? Create a `DataFrame` whose index is the `variety` category from the dataset and whose values are the `min` and `max` values thereof."
   ]
  },
  {
   "cell_type": "code",
   "execution_count": 6,
   "id": "8c26b1f4",
   "metadata": {
    "execution": {
     "iopub.execute_input": "2022-12-30T10:59:04.390430Z",
     "iopub.status.busy": "2022-12-30T10:59:04.389788Z",
     "iopub.status.idle": "2022-12-30T10:59:04.420661Z",
     "shell.execute_reply": "2022-12-30T10:59:04.419050Z"
    },
    "papermill": {
     "duration": 0.041719,
     "end_time": "2022-12-30T10:59:04.423446",
     "exception": false,
     "start_time": "2022-12-30T10:59:04.381727",
     "status": "completed"
    },
    "tags": []
   },
   "outputs": [
    {
     "name": "stdout",
     "output_type": "stream",
     "text": [
      "              min    max\n",
      "variety                 \n",
      "Abouriou     15.0   75.0\n",
      "Agiorgitiko  10.0   66.0\n",
      "Aglianico     6.0  180.0\n",
      "Aidani       27.0   27.0\n",
      "Airen         8.0   10.0\n",
      "...           ...    ...\n",
      "Zinfandel     5.0  100.0\n",
      "Zlahtina     13.0   16.0\n",
      "Zweigelt      9.0   70.0\n",
      "Çalkarası    19.0   19.0\n",
      "Žilavka      15.0   15.0\n",
      "\n",
      "[707 rows x 2 columns]\n"
     ]
    },
    {
     "data": {
      "application/javascript": [
       "parent.postMessage({\"jupyterEvent\": \"custom.exercise_interaction\", \"data\": {\"outcomeType\": 1, \"valueTowardsCompletion\": 0.16666666666666666, \"interactionType\": 1, \"questionType\": 1, \"questionId\": \"3_PriceExtremes\", \"learnToolsVersion\": \"0.3.4\", \"failureMessage\": \"\", \"exceptionClass\": \"\", \"trace\": \"\"}}, \"*\")"
      ],
      "text/plain": [
       "<IPython.core.display.Javascript object>"
      ]
     },
     "metadata": {},
     "output_type": "display_data"
    },
    {
     "data": {
      "text/markdown": [
       "<span style=\"color:#33cc33\">Correct</span>"
      ],
      "text/plain": [
       "Correct"
      ]
     },
     "metadata": {},
     "output_type": "display_data"
    }
   ],
   "source": [
    "price_extremes = reviews.groupby('variety').price.agg(['min','max'])\n",
    "print(price_extremes)\n",
    "# Check your answer\n",
    "q3.check()"
   ]
  },
  {
   "cell_type": "code",
   "execution_count": 7,
   "id": "03d5e4ce",
   "metadata": {
    "execution": {
     "iopub.execute_input": "2022-12-30T10:59:04.439600Z",
     "iopub.status.busy": "2022-12-30T10:59:04.439163Z",
     "iopub.status.idle": "2022-12-30T10:59:04.448272Z",
     "shell.execute_reply": "2022-12-30T10:59:04.446991Z"
    },
    "papermill": {
     "duration": 0.020017,
     "end_time": "2022-12-30T10:59:04.450845",
     "exception": false,
     "start_time": "2022-12-30T10:59:04.430828",
     "status": "completed"
    },
    "tags": []
   },
   "outputs": [
    {
     "data": {
      "application/javascript": [
       "parent.postMessage({\"jupyterEvent\": \"custom.exercise_interaction\", \"data\": {\"interactionType\": 3, \"questionType\": 1, \"questionId\": \"3_PriceExtremes\", \"learnToolsVersion\": \"0.3.4\", \"valueTowardsCompletion\": 0.0, \"failureMessage\": \"\", \"exceptionClass\": \"\", \"trace\": \"\", \"outcomeType\": 4}}, \"*\")"
      ],
      "text/plain": [
       "<IPython.core.display.Javascript object>"
      ]
     },
     "metadata": {},
     "output_type": "display_data"
    },
    {
     "data": {
      "text/markdown": [
       "<span style=\"color:#33cc99\">Solution:</span> \n",
       "```python\n",
       "price_extremes = reviews.groupby('variety').price.agg([min, max])\n",
       "```"
      ],
      "text/plain": [
       "Solution: \n",
       "```python\n",
       "price_extremes = reviews.groupby('variety').price.agg([min, max])\n",
       "```"
      ]
     },
     "metadata": {},
     "output_type": "display_data"
    }
   ],
   "source": [
    "#q3.hint()\n",
    "q3.solution()"
   ]
  },
  {
   "cell_type": "markdown",
   "id": "825439f2",
   "metadata": {
    "papermill": {
     "duration": 0.007447,
     "end_time": "2022-12-30T10:59:04.465690",
     "exception": false,
     "start_time": "2022-12-30T10:59:04.458243",
     "status": "completed"
    },
    "tags": []
   },
   "source": [
    "## 4.\n",
    "What are the most expensive wine varieties? Create a variable `sorted_varieties` containing a copy of the dataframe from the previous question where varieties are sorted in descending order based on minimum price, then on maximum price (to break ties)."
   ]
  },
  {
   "cell_type": "code",
   "execution_count": 8,
   "id": "36a376bc",
   "metadata": {
    "execution": {
     "iopub.execute_input": "2022-12-30T10:59:04.482524Z",
     "iopub.status.busy": "2022-12-30T10:59:04.481302Z",
     "iopub.status.idle": "2022-12-30T10:59:04.493159Z",
     "shell.execute_reply": "2022-12-30T10:59:04.492016Z"
    },
    "papermill": {
     "duration": 0.022457,
     "end_time": "2022-12-30T10:59:04.495375",
     "exception": false,
     "start_time": "2022-12-30T10:59:04.472918",
     "status": "completed"
    },
    "tags": []
   },
   "outputs": [
    {
     "data": {
      "application/javascript": [
       "parent.postMessage({\"jupyterEvent\": \"custom.exercise_interaction\", \"data\": {\"outcomeType\": 1, \"valueTowardsCompletion\": 0.16666666666666666, \"interactionType\": 1, \"questionType\": 1, \"questionId\": \"4_SortedVarieties\", \"learnToolsVersion\": \"0.3.4\", \"failureMessage\": \"\", \"exceptionClass\": \"\", \"trace\": \"\"}}, \"*\")"
      ],
      "text/plain": [
       "<IPython.core.display.Javascript object>"
      ]
     },
     "metadata": {},
     "output_type": "display_data"
    },
    {
     "data": {
      "text/markdown": [
       "<span style=\"color:#33cc33\">Correct</span>"
      ],
      "text/plain": [
       "Correct"
      ]
     },
     "metadata": {},
     "output_type": "display_data"
    }
   ],
   "source": [
    "\n",
    "sorted_varieties = price_extremes.sort_values(by=['min', 'max'], ascending=False)\n",
    "# Check your answer\n",
    "q4.check()"
   ]
  },
  {
   "cell_type": "code",
   "execution_count": 9,
   "id": "8c1419f0",
   "metadata": {
    "execution": {
     "iopub.execute_input": "2022-12-30T10:59:04.512515Z",
     "iopub.status.busy": "2022-12-30T10:59:04.511400Z",
     "iopub.status.idle": "2022-12-30T10:59:04.520175Z",
     "shell.execute_reply": "2022-12-30T10:59:04.519054Z"
    },
    "papermill": {
     "duration": 0.019727,
     "end_time": "2022-12-30T10:59:04.522545",
     "exception": false,
     "start_time": "2022-12-30T10:59:04.502818",
     "status": "completed"
    },
    "tags": []
   },
   "outputs": [
    {
     "data": {
      "application/javascript": [
       "parent.postMessage({\"jupyterEvent\": \"custom.exercise_interaction\", \"data\": {\"interactionType\": 3, \"questionType\": 1, \"questionId\": \"4_SortedVarieties\", \"learnToolsVersion\": \"0.3.4\", \"valueTowardsCompletion\": 0.0, \"failureMessage\": \"\", \"exceptionClass\": \"\", \"trace\": \"\", \"outcomeType\": 4}}, \"*\")"
      ],
      "text/plain": [
       "<IPython.core.display.Javascript object>"
      ]
     },
     "metadata": {},
     "output_type": "display_data"
    },
    {
     "data": {
      "text/markdown": [
       "<span style=\"color:#33cc99\">Solution:</span> \n",
       "```python\n",
       "sorted_varieties = price_extremes.sort_values(by=['min', 'max'], ascending=False)\n",
       "```"
      ],
      "text/plain": [
       "Solution: \n",
       "```python\n",
       "sorted_varieties = price_extremes.sort_values(by=['min', 'max'], ascending=False)\n",
       "```"
      ]
     },
     "metadata": {},
     "output_type": "display_data"
    }
   ],
   "source": [
    "#q4.hint()\n",
    "q4.solution()"
   ]
  },
  {
   "cell_type": "markdown",
   "id": "ea1316f6",
   "metadata": {
    "papermill": {
     "duration": 0.007233,
     "end_time": "2022-12-30T10:59:04.537472",
     "exception": false,
     "start_time": "2022-12-30T10:59:04.530239",
     "status": "completed"
    },
    "tags": []
   },
   "source": [
    "## 5.\n",
    "Create a `Series` whose index is reviewers and whose values is the average review score given out by that reviewer. Hint: you will need the `taster_name` and `points` columns."
   ]
  },
  {
   "cell_type": "code",
   "execution_count": 10,
   "id": "819ace9d",
   "metadata": {
    "execution": {
     "iopub.execute_input": "2022-12-30T10:59:04.554679Z",
     "iopub.status.busy": "2022-12-30T10:59:04.554005Z",
     "iopub.status.idle": "2022-12-30T10:59:04.575414Z",
     "shell.execute_reply": "2022-12-30T10:59:04.574191Z"
    },
    "papermill": {
     "duration": 0.032648,
     "end_time": "2022-12-30T10:59:04.577689",
     "exception": false,
     "start_time": "2022-12-30T10:59:04.545041",
     "status": "completed"
    },
    "tags": []
   },
   "outputs": [
    {
     "data": {
      "application/javascript": [
       "parent.postMessage({\"jupyterEvent\": \"custom.exercise_interaction\", \"data\": {\"outcomeType\": 1, \"valueTowardsCompletion\": 0.16666666666666666, \"interactionType\": 1, \"questionType\": 1, \"questionId\": \"5_ReviewerMeanRatings\", \"learnToolsVersion\": \"0.3.4\", \"failureMessage\": \"\", \"exceptionClass\": \"\", \"trace\": \"\"}}, \"*\")"
      ],
      "text/plain": [
       "<IPython.core.display.Javascript object>"
      ]
     },
     "metadata": {},
     "output_type": "display_data"
    },
    {
     "data": {
      "text/markdown": [
       "<span style=\"color:#33cc33\">Correct</span>"
      ],
      "text/plain": [
       "Correct"
      ]
     },
     "metadata": {},
     "output_type": "display_data"
    }
   ],
   "source": [
    "reviewer_mean_ratings = reviews.groupby('taster_name').points.mean()\n",
    "\n",
    "# Check your answer\n",
    "q5.check()"
   ]
  },
  {
   "cell_type": "code",
   "execution_count": 11,
   "id": "3785e52d",
   "metadata": {
    "execution": {
     "iopub.execute_input": "2022-12-30T10:59:04.595187Z",
     "iopub.status.busy": "2022-12-30T10:59:04.594787Z",
     "iopub.status.idle": "2022-12-30T10:59:04.604537Z",
     "shell.execute_reply": "2022-12-30T10:59:04.603633Z"
    },
    "papermill": {
     "duration": 0.021431,
     "end_time": "2022-12-30T10:59:04.606908",
     "exception": false,
     "start_time": "2022-12-30T10:59:04.585477",
     "status": "completed"
    },
    "tags": []
   },
   "outputs": [
    {
     "data": {
      "application/javascript": [
       "parent.postMessage({\"jupyterEvent\": \"custom.exercise_interaction\", \"data\": {\"interactionType\": 3, \"questionType\": 1, \"questionId\": \"5_ReviewerMeanRatings\", \"learnToolsVersion\": \"0.3.4\", \"valueTowardsCompletion\": 0.0, \"failureMessage\": \"\", \"exceptionClass\": \"\", \"trace\": \"\", \"outcomeType\": 4}}, \"*\")"
      ],
      "text/plain": [
       "<IPython.core.display.Javascript object>"
      ]
     },
     "metadata": {},
     "output_type": "display_data"
    },
    {
     "data": {
      "text/markdown": [
       "<span style=\"color:#33cc99\">Solution:</span> \n",
       "```python\n",
       "reviewer_mean_ratings = reviews.groupby('taster_name').points.mean()\n",
       "```"
      ],
      "text/plain": [
       "Solution: \n",
       "```python\n",
       "reviewer_mean_ratings = reviews.groupby('taster_name').points.mean()\n",
       "```"
      ]
     },
     "metadata": {},
     "output_type": "display_data"
    }
   ],
   "source": [
    "#q5.hint()\n",
    "q5.solution()"
   ]
  },
  {
   "cell_type": "markdown",
   "id": "af400b58",
   "metadata": {
    "papermill": {
     "duration": 0.007692,
     "end_time": "2022-12-30T10:59:04.622927",
     "exception": false,
     "start_time": "2022-12-30T10:59:04.615235",
     "status": "completed"
    },
    "tags": []
   },
   "source": [
    "Are there significant differences in the average scores assigned by the various reviewers? Run the cell below to use the `describe()` method to see a summary of the range of values."
   ]
  },
  {
   "cell_type": "code",
   "execution_count": 12,
   "id": "968da86f",
   "metadata": {
    "execution": {
     "iopub.execute_input": "2022-12-30T10:59:04.641745Z",
     "iopub.status.busy": "2022-12-30T10:59:04.640521Z",
     "iopub.status.idle": "2022-12-30T10:59:04.653934Z",
     "shell.execute_reply": "2022-12-30T10:59:04.652629Z"
    },
    "papermill": {
     "duration": 0.025479,
     "end_time": "2022-12-30T10:59:04.656471",
     "exception": false,
     "start_time": "2022-12-30T10:59:04.630992",
     "status": "completed"
    },
    "tags": []
   },
   "outputs": [
    {
     "data": {
      "text/plain": [
       "count    19.000000\n",
       "mean     88.233026\n",
       "std       1.243610\n",
       "min      85.855422\n",
       "25%      87.323501\n",
       "50%      88.536235\n",
       "75%      88.975256\n",
       "max      90.562551\n",
       "Name: points, dtype: float64"
      ]
     },
     "execution_count": 12,
     "metadata": {},
     "output_type": "execute_result"
    }
   ],
   "source": [
    "reviewer_mean_ratings.describe()"
   ]
  },
  {
   "cell_type": "markdown",
   "id": "0ab82efd",
   "metadata": {
    "papermill": {
     "duration": 0.007835,
     "end_time": "2022-12-30T10:59:04.672525",
     "exception": false,
     "start_time": "2022-12-30T10:59:04.664690",
     "status": "completed"
    },
    "tags": []
   },
   "source": [
    "## 6.\n",
    "What combination of countries and varieties are most common? Create a `Series` whose index is a `MultiIndex`of `{country, variety}` pairs. For example, a pinot noir produced in the US should map to `{\"US\", \"Pinot Noir\"}`. Sort the values in the `Series` in descending order based on wine count."
   ]
  },
  {
   "cell_type": "code",
   "execution_count": 13,
   "id": "adecb047",
   "metadata": {
    "execution": {
     "iopub.execute_input": "2022-12-30T10:59:04.690709Z",
     "iopub.status.busy": "2022-12-30T10:59:04.690264Z",
     "iopub.status.idle": "2022-12-30T10:59:04.724568Z",
     "shell.execute_reply": "2022-12-30T10:59:04.723553Z"
    },
    "papermill": {
     "duration": 0.046127,
     "end_time": "2022-12-30T10:59:04.726923",
     "exception": false,
     "start_time": "2022-12-30T10:59:04.680796",
     "status": "completed"
    },
    "tags": []
   },
   "outputs": [
    {
     "data": {
      "application/javascript": [
       "parent.postMessage({\"jupyterEvent\": \"custom.exercise_interaction\", \"data\": {\"outcomeType\": 1, \"valueTowardsCompletion\": 0.16666666666666666, \"interactionType\": 1, \"questionType\": 1, \"questionId\": \"6_GroupbyCountryVariety\", \"learnToolsVersion\": \"0.3.4\", \"failureMessage\": \"\", \"exceptionClass\": \"\", \"trace\": \"\"}}, \"*\")"
      ],
      "text/plain": [
       "<IPython.core.display.Javascript object>"
      ]
     },
     "metadata": {},
     "output_type": "display_data"
    },
    {
     "data": {
      "text/markdown": [
       "<span style=\"color:#33cc33\">Correct</span>"
      ],
      "text/plain": [
       "Correct"
      ]
     },
     "metadata": {},
     "output_type": "display_data"
    }
   ],
   "source": [
    "country_variety_counts = reviews.groupby(['country', 'variety']).variety.size().sort_values(ascending=False)\n",
    "# print(country_variety_counts)\n",
    "# Check your answer\n",
    "q6.check()"
   ]
  },
  {
   "cell_type": "code",
   "execution_count": 14,
   "id": "ed7571cf",
   "metadata": {
    "execution": {
     "iopub.execute_input": "2022-12-30T10:59:04.745932Z",
     "iopub.status.busy": "2022-12-30T10:59:04.745016Z",
     "iopub.status.idle": "2022-12-30T10:59:04.751929Z",
     "shell.execute_reply": "2022-12-30T10:59:04.751159Z"
    },
    "papermill": {
     "duration": 0.018684,
     "end_time": "2022-12-30T10:59:04.754051",
     "exception": false,
     "start_time": "2022-12-30T10:59:04.735367",
     "status": "completed"
    },
    "tags": []
   },
   "outputs": [
    {
     "data": {
      "application/javascript": [
       "parent.postMessage({\"jupyterEvent\": \"custom.exercise_interaction\", \"data\": {\"interactionType\": 3, \"questionType\": 1, \"questionId\": \"6_GroupbyCountryVariety\", \"learnToolsVersion\": \"0.3.4\", \"valueTowardsCompletion\": 0.0, \"failureMessage\": \"\", \"exceptionClass\": \"\", \"trace\": \"\", \"outcomeType\": 4}}, \"*\")"
      ],
      "text/plain": [
       "<IPython.core.display.Javascript object>"
      ]
     },
     "metadata": {},
     "output_type": "display_data"
    },
    {
     "data": {
      "text/markdown": [
       "<span style=\"color:#33cc99\">Solution:</span> \n",
       "```python\n",
       "country_variety_counts = reviews.groupby(['country', 'variety']).size().sort_values(ascending=False)\n",
       "```"
      ],
      "text/plain": [
       "Solution: \n",
       "```python\n",
       "country_variety_counts = reviews.groupby(['country', 'variety']).size().sort_values(ascending=False)\n",
       "```"
      ]
     },
     "metadata": {},
     "output_type": "display_data"
    }
   ],
   "source": [
    "#q6.hint()\n",
    "q6.solution()"
   ]
  },
  {
   "cell_type": "markdown",
   "id": "f40bca3d",
   "metadata": {
    "papermill": {
     "duration": 0.008421,
     "end_time": "2022-12-30T10:59:04.771027",
     "exception": false,
     "start_time": "2022-12-30T10:59:04.762606",
     "status": "completed"
    },
    "tags": []
   },
   "source": [
    "# Keep going\n",
    "\n",
    "Move on to the [**data types and missing data**](https://www.kaggle.com/residentmario/data-types-and-missing-values)."
   ]
  },
  {
   "cell_type": "markdown",
   "id": "ffc812ad",
   "metadata": {
    "papermill": {
     "duration": 0.008674,
     "end_time": "2022-12-30T10:59:04.788834",
     "exception": false,
     "start_time": "2022-12-30T10:59:04.780160",
     "status": "completed"
    },
    "tags": []
   },
   "source": [
    "---\n",
    "\n",
    "\n",
    "\n",
    "\n",
    "*Have questions or comments? Visit the [course discussion forum](https://www.kaggle.com/learn/pandas/discussion) to chat with other learners.*"
   ]
  }
 ],
 "metadata": {
  "kernelspec": {
   "display_name": "Python 3",
   "language": "python",
   "name": "python3"
  },
  "language_info": {
   "codemirror_mode": {
    "name": "ipython",
    "version": 3
   },
   "file_extension": ".py",
   "mimetype": "text/x-python",
   "name": "python",
   "nbconvert_exporter": "python",
   "pygments_lexer": "ipython3",
   "version": "3.7.12"
  },
  "papermill": {
   "default_parameters": {},
   "duration": 13.478374,
   "end_time": "2022-12-30T10:59:05.519103",
   "environment_variables": {},
   "exception": null,
   "input_path": "__notebook__.ipynb",
   "output_path": "__notebook__.ipynb",
   "parameters": {},
   "start_time": "2022-12-30T10:58:52.040729",
   "version": "2.3.4"
  }
 },
 "nbformat": 4,
 "nbformat_minor": 5
}
